{
  "nbformat": 4,
  "nbformat_minor": 0,
  "metadata": {
    "colab": {
      "provenance": [],
      "authorship_tag": "ABX9TyP6NnNF/pv2fQROMfzvrLeB",
      "include_colab_link": true
    },
    "kernelspec": {
      "name": "python3",
      "display_name": "Python 3"
    },
    "language_info": {
      "name": "python"
    }
  },
  "cells": [
    {
      "cell_type": "markdown",
      "metadata": {
        "id": "view-in-github",
        "colab_type": "text"
      },
      "source": [
        "<a href=\"https://colab.research.google.com/github/Geetanjali-Kumari1/FutureIQ/blob/main/FutureIQ1.ipynb\" target=\"_parent\"><img src=\"https://colab.research.google.com/assets/colab-badge.svg\" alt=\"Open In Colab\"/></a>"
      ]
    },
    {
      "cell_type": "code",
      "execution_count": null,
      "metadata": {
        "id": "4SGkCWLYJ3j9"
      },
      "outputs": [],
      "source": [
        "import pandas as pd\n",
        "import numpy as np\n"
      ]
    },
    {
      "cell_type": "code",
      "source": [
        "df = pd.read_csv('https://raw.githubusercontent.com/Geetanjali-Kumari1/FutureIQ/main/purchase_history_10000.csv')"
      ],
      "metadata": {
        "id": "F2DHoSzZKCGm"
      },
      "execution_count": null,
      "outputs": []
    },
    {
      "cell_type": "code",
      "source": [
        "df.head()"
      ],
      "metadata": {
        "colab": {
          "base_uri": "https://localhost:8080/",
          "height": 206
        },
        "id": "shm1oWzCKFJA",
        "outputId": "e8b62825-d24d-40c7-e76e-625b1aaad13c"
      },
      "execution_count": null,
      "outputs": [
        {
          "output_type": "execute_result",
          "data": {
            "text/plain": [
              "   Customer ID  Gender  Age  Salary Product ID  Price  Purchased\n",
              "0            1  Female   49   61000        P01   2000          1\n",
              "1            2    Male   36   30000        P02   2000          1\n",
              "2            3  Female   26   81000        P02   3500          1\n",
              "3            4  Female   32   74000        P01   7000          0\n",
              "4            5  Female   42   56000        P01   5000          0"
            ],
            "text/html": [
              "\n",
              "  <div id=\"df-7ea1f0c1-47dd-4781-aa48-f696fa6318c4\" class=\"colab-df-container\">\n",
              "    <div>\n",
              "<style scoped>\n",
              "    .dataframe tbody tr th:only-of-type {\n",
              "        vertical-align: middle;\n",
              "    }\n",
              "\n",
              "    .dataframe tbody tr th {\n",
              "        vertical-align: top;\n",
              "    }\n",
              "\n",
              "    .dataframe thead th {\n",
              "        text-align: right;\n",
              "    }\n",
              "</style>\n",
              "<table border=\"1\" class=\"dataframe\">\n",
              "  <thead>\n",
              "    <tr style=\"text-align: right;\">\n",
              "      <th></th>\n",
              "      <th>Customer ID</th>\n",
              "      <th>Gender</th>\n",
              "      <th>Age</th>\n",
              "      <th>Salary</th>\n",
              "      <th>Product ID</th>\n",
              "      <th>Price</th>\n",
              "      <th>Purchased</th>\n",
              "    </tr>\n",
              "  </thead>\n",
              "  <tbody>\n",
              "    <tr>\n",
              "      <th>0</th>\n",
              "      <td>1</td>\n",
              "      <td>Female</td>\n",
              "      <td>49</td>\n",
              "      <td>61000</td>\n",
              "      <td>P01</td>\n",
              "      <td>2000</td>\n",
              "      <td>1</td>\n",
              "    </tr>\n",
              "    <tr>\n",
              "      <th>1</th>\n",
              "      <td>2</td>\n",
              "      <td>Male</td>\n",
              "      <td>36</td>\n",
              "      <td>30000</td>\n",
              "      <td>P02</td>\n",
              "      <td>2000</td>\n",
              "      <td>1</td>\n",
              "    </tr>\n",
              "    <tr>\n",
              "      <th>2</th>\n",
              "      <td>3</td>\n",
              "      <td>Female</td>\n",
              "      <td>26</td>\n",
              "      <td>81000</td>\n",
              "      <td>P02</td>\n",
              "      <td>3500</td>\n",
              "      <td>1</td>\n",
              "    </tr>\n",
              "    <tr>\n",
              "      <th>3</th>\n",
              "      <td>4</td>\n",
              "      <td>Female</td>\n",
              "      <td>32</td>\n",
              "      <td>74000</td>\n",
              "      <td>P01</td>\n",
              "      <td>7000</td>\n",
              "      <td>0</td>\n",
              "    </tr>\n",
              "    <tr>\n",
              "      <th>4</th>\n",
              "      <td>5</td>\n",
              "      <td>Female</td>\n",
              "      <td>42</td>\n",
              "      <td>56000</td>\n",
              "      <td>P01</td>\n",
              "      <td>5000</td>\n",
              "      <td>0</td>\n",
              "    </tr>\n",
              "  </tbody>\n",
              "</table>\n",
              "</div>\n",
              "    <div class=\"colab-df-buttons\">\n",
              "\n",
              "  <div class=\"colab-df-container\">\n",
              "    <button class=\"colab-df-convert\" onclick=\"convertToInteractive('df-7ea1f0c1-47dd-4781-aa48-f696fa6318c4')\"\n",
              "            title=\"Convert this dataframe to an interactive table.\"\n",
              "            style=\"display:none;\">\n",
              "\n",
              "  <svg xmlns=\"http://www.w3.org/2000/svg\" height=\"24px\" viewBox=\"0 -960 960 960\">\n",
              "    <path d=\"M120-120v-720h720v720H120Zm60-500h600v-160H180v160Zm220 220h160v-160H400v160Zm0 220h160v-160H400v160ZM180-400h160v-160H180v160Zm440 0h160v-160H620v160ZM180-180h160v-160H180v160Zm440 0h160v-160H620v160Z\"/>\n",
              "  </svg>\n",
              "    </button>\n",
              "\n",
              "  <style>\n",
              "    .colab-df-container {\n",
              "      display:flex;\n",
              "      gap: 12px;\n",
              "    }\n",
              "\n",
              "    .colab-df-convert {\n",
              "      background-color: #E8F0FE;\n",
              "      border: none;\n",
              "      border-radius: 50%;\n",
              "      cursor: pointer;\n",
              "      display: none;\n",
              "      fill: #1967D2;\n",
              "      height: 32px;\n",
              "      padding: 0 0 0 0;\n",
              "      width: 32px;\n",
              "    }\n",
              "\n",
              "    .colab-df-convert:hover {\n",
              "      background-color: #E2EBFA;\n",
              "      box-shadow: 0px 1px 2px rgba(60, 64, 67, 0.3), 0px 1px 3px 1px rgba(60, 64, 67, 0.15);\n",
              "      fill: #174EA6;\n",
              "    }\n",
              "\n",
              "    .colab-df-buttons div {\n",
              "      margin-bottom: 4px;\n",
              "    }\n",
              "\n",
              "    [theme=dark] .colab-df-convert {\n",
              "      background-color: #3B4455;\n",
              "      fill: #D2E3FC;\n",
              "    }\n",
              "\n",
              "    [theme=dark] .colab-df-convert:hover {\n",
              "      background-color: #434B5C;\n",
              "      box-shadow: 0px 1px 3px 1px rgba(0, 0, 0, 0.15);\n",
              "      filter: drop-shadow(0px 1px 2px rgba(0, 0, 0, 0.3));\n",
              "      fill: #FFFFFF;\n",
              "    }\n",
              "  </style>\n",
              "\n",
              "    <script>\n",
              "      const buttonEl =\n",
              "        document.querySelector('#df-7ea1f0c1-47dd-4781-aa48-f696fa6318c4 button.colab-df-convert');\n",
              "      buttonEl.style.display =\n",
              "        google.colab.kernel.accessAllowed ? 'block' : 'none';\n",
              "\n",
              "      async function convertToInteractive(key) {\n",
              "        const element = document.querySelector('#df-7ea1f0c1-47dd-4781-aa48-f696fa6318c4');\n",
              "        const dataTable =\n",
              "          await google.colab.kernel.invokeFunction('convertToInteractive',\n",
              "                                                    [key], {});\n",
              "        if (!dataTable) return;\n",
              "\n",
              "        const docLinkHtml = 'Like what you see? Visit the ' +\n",
              "          '<a target=\"_blank\" href=https://colab.research.google.com/notebooks/data_table.ipynb>data table notebook</a>'\n",
              "          + ' to learn more about interactive tables.';\n",
              "        element.innerHTML = '';\n",
              "        dataTable['output_type'] = 'display_data';\n",
              "        await google.colab.output.renderOutput(dataTable, element);\n",
              "        const docLink = document.createElement('div');\n",
              "        docLink.innerHTML = docLinkHtml;\n",
              "        element.appendChild(docLink);\n",
              "      }\n",
              "    </script>\n",
              "  </div>\n",
              "\n",
              "\n",
              "<div id=\"df-93474495-ef42-4dd9-bb57-5fb810e1e20c\">\n",
              "  <button class=\"colab-df-quickchart\" onclick=\"quickchart('df-93474495-ef42-4dd9-bb57-5fb810e1e20c')\"\n",
              "            title=\"Suggest charts\"\n",
              "            style=\"display:none;\">\n",
              "\n",
              "<svg xmlns=\"http://www.w3.org/2000/svg\" height=\"24px\"viewBox=\"0 0 24 24\"\n",
              "     width=\"24px\">\n",
              "    <g>\n",
              "        <path d=\"M19 3H5c-1.1 0-2 .9-2 2v14c0 1.1.9 2 2 2h14c1.1 0 2-.9 2-2V5c0-1.1-.9-2-2-2zM9 17H7v-7h2v7zm4 0h-2V7h2v10zm4 0h-2v-4h2v4z\"/>\n",
              "    </g>\n",
              "</svg>\n",
              "  </button>\n",
              "\n",
              "<style>\n",
              "  .colab-df-quickchart {\n",
              "      --bg-color: #E8F0FE;\n",
              "      --fill-color: #1967D2;\n",
              "      --hover-bg-color: #E2EBFA;\n",
              "      --hover-fill-color: #174EA6;\n",
              "      --disabled-fill-color: #AAA;\n",
              "      --disabled-bg-color: #DDD;\n",
              "  }\n",
              "\n",
              "  [theme=dark] .colab-df-quickchart {\n",
              "      --bg-color: #3B4455;\n",
              "      --fill-color: #D2E3FC;\n",
              "      --hover-bg-color: #434B5C;\n",
              "      --hover-fill-color: #FFFFFF;\n",
              "      --disabled-bg-color: #3B4455;\n",
              "      --disabled-fill-color: #666;\n",
              "  }\n",
              "\n",
              "  .colab-df-quickchart {\n",
              "    background-color: var(--bg-color);\n",
              "    border: none;\n",
              "    border-radius: 50%;\n",
              "    cursor: pointer;\n",
              "    display: none;\n",
              "    fill: var(--fill-color);\n",
              "    height: 32px;\n",
              "    padding: 0;\n",
              "    width: 32px;\n",
              "  }\n",
              "\n",
              "  .colab-df-quickchart:hover {\n",
              "    background-color: var(--hover-bg-color);\n",
              "    box-shadow: 0 1px 2px rgba(60, 64, 67, 0.3), 0 1px 3px 1px rgba(60, 64, 67, 0.15);\n",
              "    fill: var(--button-hover-fill-color);\n",
              "  }\n",
              "\n",
              "  .colab-df-quickchart-complete:disabled,\n",
              "  .colab-df-quickchart-complete:disabled:hover {\n",
              "    background-color: var(--disabled-bg-color);\n",
              "    fill: var(--disabled-fill-color);\n",
              "    box-shadow: none;\n",
              "  }\n",
              "\n",
              "  .colab-df-spinner {\n",
              "    border: 2px solid var(--fill-color);\n",
              "    border-color: transparent;\n",
              "    border-bottom-color: var(--fill-color);\n",
              "    animation:\n",
              "      spin 1s steps(1) infinite;\n",
              "  }\n",
              "\n",
              "  @keyframes spin {\n",
              "    0% {\n",
              "      border-color: transparent;\n",
              "      border-bottom-color: var(--fill-color);\n",
              "      border-left-color: var(--fill-color);\n",
              "    }\n",
              "    20% {\n",
              "      border-color: transparent;\n",
              "      border-left-color: var(--fill-color);\n",
              "      border-top-color: var(--fill-color);\n",
              "    }\n",
              "    30% {\n",
              "      border-color: transparent;\n",
              "      border-left-color: var(--fill-color);\n",
              "      border-top-color: var(--fill-color);\n",
              "      border-right-color: var(--fill-color);\n",
              "    }\n",
              "    40% {\n",
              "      border-color: transparent;\n",
              "      border-right-color: var(--fill-color);\n",
              "      border-top-color: var(--fill-color);\n",
              "    }\n",
              "    60% {\n",
              "      border-color: transparent;\n",
              "      border-right-color: var(--fill-color);\n",
              "    }\n",
              "    80% {\n",
              "      border-color: transparent;\n",
              "      border-right-color: var(--fill-color);\n",
              "      border-bottom-color: var(--fill-color);\n",
              "    }\n",
              "    90% {\n",
              "      border-color: transparent;\n",
              "      border-bottom-color: var(--fill-color);\n",
              "    }\n",
              "  }\n",
              "</style>\n",
              "\n",
              "  <script>\n",
              "    async function quickchart(key) {\n",
              "      const quickchartButtonEl =\n",
              "        document.querySelector('#' + key + ' button');\n",
              "      quickchartButtonEl.disabled = true;  // To prevent multiple clicks.\n",
              "      quickchartButtonEl.classList.add('colab-df-spinner');\n",
              "      try {\n",
              "        const charts = await google.colab.kernel.invokeFunction(\n",
              "            'suggestCharts', [key], {});\n",
              "      } catch (error) {\n",
              "        console.error('Error during call to suggestCharts:', error);\n",
              "      }\n",
              "      quickchartButtonEl.classList.remove('colab-df-spinner');\n",
              "      quickchartButtonEl.classList.add('colab-df-quickchart-complete');\n",
              "    }\n",
              "    (() => {\n",
              "      let quickchartButtonEl =\n",
              "        document.querySelector('#df-93474495-ef42-4dd9-bb57-5fb810e1e20c button');\n",
              "      quickchartButtonEl.style.display =\n",
              "        google.colab.kernel.accessAllowed ? 'block' : 'none';\n",
              "    })();\n",
              "  </script>\n",
              "</div>\n",
              "\n",
              "    </div>\n",
              "  </div>\n"
            ],
            "application/vnd.google.colaboratory.intrinsic+json": {
              "type": "dataframe",
              "variable_name": "df",
              "summary": "{\n  \"name\": \"df\",\n  \"rows\": 10000,\n  \"fields\": [\n    {\n      \"column\": \"Customer ID\",\n      \"properties\": {\n        \"dtype\": \"number\",\n        \"std\": 288,\n        \"min\": 1,\n        \"max\": 1000,\n        \"num_unique_values\": 1000,\n        \"samples\": [\n          522,\n          738,\n          741\n        ],\n        \"semantic_type\": \"\",\n        \"description\": \"\"\n      }\n    },\n    {\n      \"column\": \"Gender\",\n      \"properties\": {\n        \"dtype\": \"category\",\n        \"num_unique_values\": 2,\n        \"samples\": [\n          \"Male\",\n          \"Female\"\n        ],\n        \"semantic_type\": \"\",\n        \"description\": \"\"\n      }\n    },\n    {\n      \"column\": \"Age\",\n      \"properties\": {\n        \"dtype\": \"number\",\n        \"std\": 13,\n        \"min\": 18,\n        \"max\": 64,\n        \"num_unique_values\": 47,\n        \"samples\": [\n          57,\n          59\n        ],\n        \"semantic_type\": \"\",\n        \"description\": \"\"\n      }\n    },\n    {\n      \"column\": \"Salary\",\n      \"properties\": {\n        \"dtype\": \"number\",\n        \"std\": 23604,\n        \"min\": 20000,\n        \"max\": 100000,\n        \"num_unique_values\": 81,\n        \"samples\": [\n          78000,\n          61000\n        ],\n        \"semantic_type\": \"\",\n        \"description\": \"\"\n      }\n    },\n    {\n      \"column\": \"Product ID\",\n      \"properties\": {\n        \"dtype\": \"category\",\n        \"num_unique_values\": 3,\n        \"samples\": [\n          \"P01\",\n          \"P02\"\n        ],\n        \"semantic_type\": \"\",\n        \"description\": \"\"\n      }\n    },\n    {\n      \"column\": \"Price\",\n      \"properties\": {\n        \"dtype\": \"number\",\n        \"std\": 1847,\n        \"min\": 2000,\n        \"max\": 7000,\n        \"num_unique_values\": 4,\n        \"samples\": [\n          3500,\n          5000\n        ],\n        \"semantic_type\": \"\",\n        \"description\": \"\"\n      }\n    },\n    {\n      \"column\": \"Purchased\",\n      \"properties\": {\n        \"dtype\": \"number\",\n        \"std\": 0,\n        \"min\": 0,\n        \"max\": 1,\n        \"num_unique_values\": 2,\n        \"samples\": [\n          0,\n          1\n        ],\n        \"semantic_type\": \"\",\n        \"description\": \"\"\n      }\n    }\n  ]\n}"
            }
          },
          "metadata": {},
          "execution_count": 10
        }
      ]
    },
    {
      "cell_type": "code",
      "source": [
        "df.count()"
      ],
      "metadata": {
        "colab": {
          "base_uri": "https://localhost:8080/"
        },
        "id": "pPwsCjPaKJzS",
        "outputId": "82e3e31a-9302-4f0d-ead0-c1788bbcc6a5"
      },
      "execution_count": null,
      "outputs": [
        {
          "output_type": "execute_result",
          "data": {
            "text/plain": [
              "Customer ID    10000\n",
              "Gender         10000\n",
              "Age            10000\n",
              "Salary         10000\n",
              "Product ID     10000\n",
              "Price          10000\n",
              "Purchased      10000\n",
              "dtype: int64"
            ]
          },
          "metadata": {},
          "execution_count": 11
        }
      ]
    },
    {
      "cell_type": "code",
      "source": [
        "len(df)"
      ],
      "metadata": {
        "colab": {
          "base_uri": "https://localhost:8080/"
        },
        "id": "K6OvgjZRKLjX",
        "outputId": "a6980226-7f53-44b5-a953-b562abb48e0b"
      },
      "execution_count": null,
      "outputs": [
        {
          "output_type": "execute_result",
          "data": {
            "text/plain": [
              "10000"
            ]
          },
          "metadata": {},
          "execution_count": 12
        }
      ]
    },
    {
      "cell_type": "code",
      "source": [
        "one_hot_encoded_df = pd.get_dummies(df, columns=['Gender'])"
      ],
      "metadata": {
        "id": "Y-_YRlKwkpoW"
      },
      "execution_count": null,
      "outputs": []
    },
    {
      "cell_type": "code",
      "source": [
        "one_hot_encoded_df['Gender_Female'] = one_hot_encoded_df['Gender_Female'].astype(int)\n",
        "one_hot_encoded_df['Gender_Male'] = one_hot_encoded_df['Gender_Male'].astype(int)"
      ],
      "metadata": {
        "id": "oyE5TeC2lE-X"
      },
      "execution_count": null,
      "outputs": []
    },
    {
      "cell_type": "code",
      "source": [
        "print(one_hot_encoded_df.head())"
      ],
      "metadata": {
        "colab": {
          "base_uri": "https://localhost:8080/"
        },
        "id": "Sq9VioPVkumw",
        "outputId": "07815c28-74f7-4cd7-f534-4a2d7bf65f5e"
      },
      "execution_count": null,
      "outputs": [
        {
          "output_type": "stream",
          "name": "stdout",
          "text": [
            "   Customer ID  Age  Salary Product ID  Price  Purchased  Gender_Female  \\\n",
            "0            1   49   61000        P01   2000          1              1   \n",
            "1            2   36   30000        P02   2000          1              0   \n",
            "2            3   26   81000        P02   3500          1              1   \n",
            "3            4   32   74000        P01   7000          0              1   \n",
            "4            5   42   56000        P01   5000          0              1   \n",
            "\n",
            "   Gender_Male  \n",
            "0            0  \n",
            "1            1  \n",
            "2            0  \n",
            "3            0  \n",
            "4            0  \n"
          ]
        }
      ]
    },
    {
      "cell_type": "code",
      "source": [
        "one_hot_encoded_df = one_hot_encoded_df.drop(columns=['Gender_Female'])"
      ],
      "metadata": {
        "id": "tn32b8uUpgrM"
      },
      "execution_count": null,
      "outputs": []
    },
    {
      "cell_type": "code",
      "source": [
        "print(one_hot_encoded_df.head())"
      ],
      "metadata": {
        "colab": {
          "base_uri": "https://localhost:8080/"
        },
        "id": "pEpXTLPjpkoF",
        "outputId": "7082cc5a-eef0-478e-b080-cc4d3fdb099a"
      },
      "execution_count": null,
      "outputs": [
        {
          "output_type": "stream",
          "name": "stdout",
          "text": [
            "   Customer ID  Age  Salary Product ID  Price  Purchased  Gender_Male\n",
            "0            1   49   61000        P01   2000          1            0\n",
            "1            2   36   30000        P02   2000          1            1\n",
            "2            3   26   81000        P02   3500          1            0\n",
            "3            4   32   74000        P01   7000          0            0\n",
            "4            5   42   56000        P01   5000          0            0\n"
          ]
        }
      ]
    },
    {
      "cell_type": "code",
      "source": [
        "df_with_gender = pd.concat([df['Gender'], one_hot_encoded_df], axis=1)"
      ],
      "metadata": {
        "id": "7sOa6xgqqF1f"
      },
      "execution_count": null,
      "outputs": []
    },
    {
      "cell_type": "code",
      "source": [
        "print(one_hot_encoded_df.head())"
      ],
      "metadata": {
        "colab": {
          "base_uri": "https://localhost:8080/"
        },
        "id": "8ex5blZhqJgu",
        "outputId": "e5f2ce7e-ff93-43b0-b6c8-0e539ddf1fa6"
      },
      "execution_count": null,
      "outputs": [
        {
          "output_type": "stream",
          "name": "stdout",
          "text": [
            "   Customer ID  Age  Salary Product ID  Price  Purchased  Gender_Male\n",
            "0            1   49   61000        P01   2000          1            0\n",
            "1            2   36   30000        P02   2000          1            1\n",
            "2            3   26   81000        P02   3500          1            0\n",
            "3            4   32   74000        P01   7000          0            0\n",
            "4            5   42   56000        P01   5000          0            0\n"
          ]
        }
      ]
    },
    {
      "cell_type": "code",
      "source": [
        "print(df_with_gender.head())"
      ],
      "metadata": {
        "colab": {
          "base_uri": "https://localhost:8080/"
        },
        "id": "EnkMfcv3r8op",
        "outputId": "c6f40378-e4fb-463d-af2f-87a4ccac5212"
      },
      "execution_count": null,
      "outputs": [
        {
          "output_type": "stream",
          "name": "stdout",
          "text": [
            "   Gender  Customer ID  Age  Salary Product ID  Price  Purchased  Gender_Male\n",
            "0  Female            1   49   61000        P01   2000          1            0\n",
            "1    Male            2   36   30000        P02   2000          1            1\n",
            "2  Female            3   26   81000        P02   3500          1            0\n",
            "3  Female            4   32   74000        P01   7000          0            0\n",
            "4  Female            5   42   56000        P01   5000          0            0\n"
          ]
        }
      ]
    },
    {
      "cell_type": "code",
      "source": [
        "x = df_with_gender[['Gender_Male','Age','Salary','Price']].to_numpy()"
      ],
      "metadata": {
        "id": "_nvS6rRUsTWn"
      },
      "execution_count": null,
      "outputs": []
    },
    {
      "cell_type": "code",
      "source": [
        "x"
      ],
      "metadata": {
        "colab": {
          "base_uri": "https://localhost:8080/"
        },
        "id": "AiKz6i87srt2",
        "outputId": "4686b5ca-a751-491c-fb2e-fd79a7726007"
      },
      "execution_count": null,
      "outputs": [
        {
          "output_type": "execute_result",
          "data": {
            "text/plain": [
              "array([[    0,    49, 61000,  2000],\n",
              "       [    1,    36, 30000,  2000],\n",
              "       [    0,    26, 81000,  3500],\n",
              "       ...,\n",
              "       [    0,    41, 20000,  2000],\n",
              "       [    1,    22, 29000,  5000],\n",
              "       [    0,    49, 36000,  3500]])"
            ]
          },
          "metadata": {},
          "execution_count": 22
        }
      ]
    },
    {
      "cell_type": "code",
      "source": [
        "y = df_with_gender['Purchased'].to_numpy()\n"
      ],
      "metadata": {
        "id": "60n9HKUgsxN_"
      },
      "execution_count": null,
      "outputs": []
    },
    {
      "cell_type": "code",
      "source": [
        "y"
      ],
      "metadata": {
        "colab": {
          "base_uri": "https://localhost:8080/"
        },
        "id": "0b89X6lps2h6",
        "outputId": "61e68ed6-dcc5-4564-9dd1-31024f43d6e0"
      },
      "execution_count": null,
      "outputs": [
        {
          "output_type": "execute_result",
          "data": {
            "text/plain": [
              "array([1, 1, 1, ..., 0, 0, 0])"
            ]
          },
          "metadata": {},
          "execution_count": 24
        }
      ]
    },
    {
      "cell_type": "code",
      "source": [
        "from sklearn.model_selection import train_test_split\n"
      ],
      "metadata": {
        "id": "u1gmeM0ls8CY"
      },
      "execution_count": null,
      "outputs": []
    },
    {
      "cell_type": "code",
      "source": [
        "x_train, x_temp, y_train, y_temp = train_test_split(x, y, test_size=0.4, random_state=42)\n"
      ],
      "metadata": {
        "id": "l3sltM_mydfq"
      },
      "execution_count": null,
      "outputs": []
    },
    {
      "cell_type": "code",
      "source": [
        "x_val, x_test, y_val, y_test = train_test_split(x_temp, y_temp, test_size=0.5, random_state=42)\n"
      ],
      "metadata": {
        "id": "BHMwXuwcyfX3"
      },
      "execution_count": null,
      "outputs": []
    },
    {
      "cell_type": "code",
      "source": [
        "print(f'Training set size: {len(x_train)}')\n"
      ],
      "metadata": {
        "colab": {
          "base_uri": "https://localhost:8080/"
        },
        "id": "geNX5j8Myj9G",
        "outputId": "ce1af63a-18c6-43e6-c92a-14ea53f45a40"
      },
      "execution_count": null,
      "outputs": [
        {
          "output_type": "stream",
          "name": "stdout",
          "text": [
            "Training set size: 6000\n"
          ]
        }
      ]
    },
    {
      "cell_type": "code",
      "source": [
        "print(f'Cross-validation set size: {len(x_val)}')\n"
      ],
      "metadata": {
        "colab": {
          "base_uri": "https://localhost:8080/"
        },
        "id": "M_QHRpAEynFa",
        "outputId": "8bf33419-a398-4b82-d43e-e5ded849321d"
      },
      "execution_count": null,
      "outputs": [
        {
          "output_type": "stream",
          "name": "stdout",
          "text": [
            "Cross-validation set size: 2000\n"
          ]
        }
      ]
    },
    {
      "cell_type": "code",
      "source": [
        "print(f'Test set size: {len(x_test)}')\n"
      ],
      "metadata": {
        "colab": {
          "base_uri": "https://localhost:8080/"
        },
        "id": "9qmWCjP_ynQ6",
        "outputId": "84f2bfe3-1f5d-4f5c-c1eb-78996af5d9fe"
      },
      "execution_count": null,
      "outputs": [
        {
          "output_type": "stream",
          "name": "stdout",
          "text": [
            "Test set size: 2000\n"
          ]
        }
      ]
    },
    {
      "cell_type": "code",
      "source": [
        "x_train\n"
      ],
      "metadata": {
        "colab": {
          "base_uri": "https://localhost:8080/"
        },
        "id": "F0XpPyLTtEfd",
        "outputId": "33a99535-86f5-480b-bcbc-97f60248fc06"
      },
      "execution_count": null,
      "outputs": [
        {
          "output_type": "execute_result",
          "data": {
            "text/plain": [
              "array([[    1,    30, 48000,  3500],\n",
              "       [    0,    59, 60000,  5000],\n",
              "       [    1,    28, 94000,  7000],\n",
              "       ...,\n",
              "       [    1,    62, 97000,  7000],\n",
              "       [    0,    59, 91000,  2000],\n",
              "       [    0,    47, 73000,  5000]])"
            ]
          },
          "metadata": {},
          "execution_count": 31
        }
      ]
    },
    {
      "cell_type": "code",
      "source": [
        "x_test\n"
      ],
      "metadata": {
        "colab": {
          "base_uri": "https://localhost:8080/"
        },
        "id": "iFEDtVNftZYU",
        "outputId": "e7574bf2-c0dd-4c03-c501-378ded46b57b"
      },
      "execution_count": null,
      "outputs": [
        {
          "output_type": "execute_result",
          "data": {
            "text/plain": [
              "array([[    0,    45, 67000,  7000],\n",
              "       [    1,    56, 80000,  5000],\n",
              "       [    1,    40, 20000,  5000],\n",
              "       ...,\n",
              "       [    1,    43, 64000,  7000],\n",
              "       [    1,    25, 39000,  7000],\n",
              "       [    1,    63, 83000,  2000]])"
            ]
          },
          "metadata": {},
          "execution_count": 32
        }
      ]
    },
    {
      "cell_type": "code",
      "source": [
        "y_train\n"
      ],
      "metadata": {
        "colab": {
          "base_uri": "https://localhost:8080/"
        },
        "id": "XdCcALJYuSzW",
        "outputId": "663f0c37-d8bd-40c3-d43d-a2465d932b7e"
      },
      "execution_count": null,
      "outputs": [
        {
          "output_type": "execute_result",
          "data": {
            "text/plain": [
              "array([0, 1, 0, ..., 0, 1, 0])"
            ]
          },
          "metadata": {},
          "execution_count": 33
        }
      ]
    },
    {
      "cell_type": "code",
      "source": [
        "y_test\n"
      ],
      "metadata": {
        "colab": {
          "base_uri": "https://localhost:8080/"
        },
        "id": "4zzA8XouuYA9",
        "outputId": "34f0f93d-e4e9-4f8d-b16e-0fd474473477"
      },
      "execution_count": null,
      "outputs": [
        {
          "output_type": "execute_result",
          "data": {
            "text/plain": [
              "array([0, 1, 0, ..., 0, 0, 1])"
            ]
          },
          "metadata": {},
          "execution_count": 34
        }
      ]
    },
    {
      "cell_type": "code",
      "source": [
        "x_temp"
      ],
      "metadata": {
        "colab": {
          "base_uri": "https://localhost:8080/"
        },
        "id": "BPO0FvNmzHpZ",
        "outputId": "1e848354-12e0-48b3-d75b-f9cb7bbfe329"
      },
      "execution_count": null,
      "outputs": [
        {
          "output_type": "execute_result",
          "data": {
            "text/plain": [
              "array([[    0,    48, 39000,  5000],\n",
              "       [    0,    38, 37000,  3500],\n",
              "       [    0,    51, 88000,  2000],\n",
              "       ...,\n",
              "       [    1,    60, 60000,  7000],\n",
              "       [    0,    52, 47000,  5000],\n",
              "       [    1,    25, 49000,  7000]])"
            ]
          },
          "metadata": {},
          "execution_count": 35
        }
      ]
    },
    {
      "cell_type": "code",
      "source": [
        "y_temp"
      ],
      "metadata": {
        "colab": {
          "base_uri": "https://localhost:8080/"
        },
        "id": "MErIVO0OzSPZ",
        "outputId": "092b8ada-a6aa-4c33-bb9e-b157d3bd539b"
      },
      "execution_count": null,
      "outputs": [
        {
          "output_type": "execute_result",
          "data": {
            "text/plain": [
              "array([0, 1, 1, ..., 0, 0, 0])"
            ]
          },
          "metadata": {},
          "execution_count": 36
        }
      ]
    },
    {
      "cell_type": "code",
      "source": [
        "x_val"
      ],
      "metadata": {
        "colab": {
          "base_uri": "https://localhost:8080/"
        },
        "id": "xJoTCmS5zVcl",
        "outputId": "8c77bffc-716d-4dc2-8874-df91d26fcdb4"
      },
      "execution_count": null,
      "outputs": [
        {
          "output_type": "execute_result",
          "data": {
            "text/plain": [
              "array([[    0,    37, 24000,  2000],\n",
              "       [    0,    49, 81000,  2000],\n",
              "       [    0,    43, 50000,  5000],\n",
              "       ...,\n",
              "       [    0,    18, 40000,  2000],\n",
              "       [    1,    62, 98000,  3500],\n",
              "       [    0,    27, 79000,  7000]])"
            ]
          },
          "metadata": {},
          "execution_count": 37
        }
      ]
    },
    {
      "cell_type": "code",
      "source": [
        "y_val"
      ],
      "metadata": {
        "colab": {
          "base_uri": "https://localhost:8080/"
        },
        "id": "_5aPI7s9zY2F",
        "outputId": "c3709b3e-e6e7-482e-9db8-bd1e0826b7be"
      },
      "execution_count": null,
      "outputs": [
        {
          "output_type": "execute_result",
          "data": {
            "text/plain": [
              "array([0, 1, 0, ..., 0, 1, 0])"
            ]
          },
          "metadata": {},
          "execution_count": 38
        }
      ]
    },
    {
      "cell_type": "code",
      "source": [
        "from sklearn.preprocessing import StandardScaler\n"
      ],
      "metadata": {
        "id": "wtzlRlHfuq0J"
      },
      "execution_count": null,
      "outputs": []
    },
    {
      "cell_type": "code",
      "source": [
        "scaler = StandardScaler()\n",
        "x_train = scaler.fit_transform(x_train)\n",
        "x_val = scaler.transform(x_val)\n",
        "x_test = scaler.fit_transform(x_test)\n",
        "\n"
      ],
      "metadata": {
        "id": "-R3D865QuvQw"
      },
      "execution_count": null,
      "outputs": []
    },
    {
      "cell_type": "code",
      "source": [
        "from sklearn.linear_model import LogisticRegression\n",
        "from sklearn.metrics import classification_report"
      ],
      "metadata": {
        "id": "LqZurZJtxkMN"
      },
      "execution_count": null,
      "outputs": []
    },
    {
      "cell_type": "code",
      "source": [
        "log_reg_model = LogisticRegression()\n"
      ],
      "metadata": {
        "id": "6lLJgud7xqMc"
      },
      "execution_count": null,
      "outputs": []
    },
    {
      "cell_type": "code",
      "source": [
        "log_reg_model.fit(x_train, y_train)\n",
        "\n"
      ],
      "metadata": {
        "colab": {
          "base_uri": "https://localhost:8080/",
          "height": 74
        },
        "id": "jtsbNbU4xvcX",
        "outputId": "1a3e7c76-7d62-4fe6-fd49-13294b0d8575"
      },
      "execution_count": null,
      "outputs": [
        {
          "output_type": "execute_result",
          "data": {
            "text/plain": [
              "LogisticRegression()"
            ],
            "text/html": [
              "<style>#sk-container-id-1 {color: black;background-color: white;}#sk-container-id-1 pre{padding: 0;}#sk-container-id-1 div.sk-toggleable {background-color: white;}#sk-container-id-1 label.sk-toggleable__label {cursor: pointer;display: block;width: 100%;margin-bottom: 0;padding: 0.3em;box-sizing: border-box;text-align: center;}#sk-container-id-1 label.sk-toggleable__label-arrow:before {content: \"▸\";float: left;margin-right: 0.25em;color: #696969;}#sk-container-id-1 label.sk-toggleable__label-arrow:hover:before {color: black;}#sk-container-id-1 div.sk-estimator:hover label.sk-toggleable__label-arrow:before {color: black;}#sk-container-id-1 div.sk-toggleable__content {max-height: 0;max-width: 0;overflow: hidden;text-align: left;background-color: #f0f8ff;}#sk-container-id-1 div.sk-toggleable__content pre {margin: 0.2em;color: black;border-radius: 0.25em;background-color: #f0f8ff;}#sk-container-id-1 input.sk-toggleable__control:checked~div.sk-toggleable__content {max-height: 200px;max-width: 100%;overflow: auto;}#sk-container-id-1 input.sk-toggleable__control:checked~label.sk-toggleable__label-arrow:before {content: \"▾\";}#sk-container-id-1 div.sk-estimator input.sk-toggleable__control:checked~label.sk-toggleable__label {background-color: #d4ebff;}#sk-container-id-1 div.sk-label input.sk-toggleable__control:checked~label.sk-toggleable__label {background-color: #d4ebff;}#sk-container-id-1 input.sk-hidden--visually {border: 0;clip: rect(1px 1px 1px 1px);clip: rect(1px, 1px, 1px, 1px);height: 1px;margin: -1px;overflow: hidden;padding: 0;position: absolute;width: 1px;}#sk-container-id-1 div.sk-estimator {font-family: monospace;background-color: #f0f8ff;border: 1px dotted black;border-radius: 0.25em;box-sizing: border-box;margin-bottom: 0.5em;}#sk-container-id-1 div.sk-estimator:hover {background-color: #d4ebff;}#sk-container-id-1 div.sk-parallel-item::after {content: \"\";width: 100%;border-bottom: 1px solid gray;flex-grow: 1;}#sk-container-id-1 div.sk-label:hover label.sk-toggleable__label {background-color: #d4ebff;}#sk-container-id-1 div.sk-serial::before {content: \"\";position: absolute;border-left: 1px solid gray;box-sizing: border-box;top: 0;bottom: 0;left: 50%;z-index: 0;}#sk-container-id-1 div.sk-serial {display: flex;flex-direction: column;align-items: center;background-color: white;padding-right: 0.2em;padding-left: 0.2em;position: relative;}#sk-container-id-1 div.sk-item {position: relative;z-index: 1;}#sk-container-id-1 div.sk-parallel {display: flex;align-items: stretch;justify-content: center;background-color: white;position: relative;}#sk-container-id-1 div.sk-item::before, #sk-container-id-1 div.sk-parallel-item::before {content: \"\";position: absolute;border-left: 1px solid gray;box-sizing: border-box;top: 0;bottom: 0;left: 50%;z-index: -1;}#sk-container-id-1 div.sk-parallel-item {display: flex;flex-direction: column;z-index: 1;position: relative;background-color: white;}#sk-container-id-1 div.sk-parallel-item:first-child::after {align-self: flex-end;width: 50%;}#sk-container-id-1 div.sk-parallel-item:last-child::after {align-self: flex-start;width: 50%;}#sk-container-id-1 div.sk-parallel-item:only-child::after {width: 0;}#sk-container-id-1 div.sk-dashed-wrapped {border: 1px dashed gray;margin: 0 0.4em 0.5em 0.4em;box-sizing: border-box;padding-bottom: 0.4em;background-color: white;}#sk-container-id-1 div.sk-label label {font-family: monospace;font-weight: bold;display: inline-block;line-height: 1.2em;}#sk-container-id-1 div.sk-label-container {text-align: center;}#sk-container-id-1 div.sk-container {/* jupyter's `normalize.less` sets `[hidden] { display: none; }` but bootstrap.min.css set `[hidden] { display: none !important; }` so we also need the `!important` here to be able to override the default hidden behavior on the sphinx rendered scikit-learn.org. See: https://github.com/scikit-learn/scikit-learn/issues/21755 */display: inline-block !important;position: relative;}#sk-container-id-1 div.sk-text-repr-fallback {display: none;}</style><div id=\"sk-container-id-1\" class=\"sk-top-container\"><div class=\"sk-text-repr-fallback\"><pre>LogisticRegression()</pre><b>In a Jupyter environment, please rerun this cell to show the HTML representation or trust the notebook. <br />On GitHub, the HTML representation is unable to render, please try loading this page with nbviewer.org.</b></div><div class=\"sk-container\" hidden><div class=\"sk-item\"><div class=\"sk-estimator sk-toggleable\"><input class=\"sk-toggleable__control sk-hidden--visually\" id=\"sk-estimator-id-1\" type=\"checkbox\" checked><label for=\"sk-estimator-id-1\" class=\"sk-toggleable__label sk-toggleable__label-arrow\">LogisticRegression</label><div class=\"sk-toggleable__content\"><pre>LogisticRegression()</pre></div></div></div></div></div>"
            ]
          },
          "metadata": {},
          "execution_count": 43
        }
      ]
    },
    {
      "cell_type": "code",
      "source": [
        "y_val_pred_log_reg = log_reg_model.predict(x_val)\n"
      ],
      "metadata": {
        "id": "e8jU8-o5yIs3"
      },
      "execution_count": null,
      "outputs": []
    },
    {
      "cell_type": "code",
      "source": [
        "print(\"Logistic Regression Cross-Validation Classification Report:\")\n",
        "print(classification_report(y_val, y_val_pred_log_reg))"
      ],
      "metadata": {
        "colab": {
          "base_uri": "https://localhost:8080/"
        },
        "id": "HL7XEF9OyQQ4",
        "outputId": "00f574ff-59b5-4213-8fe2-f11be268ea16"
      },
      "execution_count": null,
      "outputs": [
        {
          "output_type": "stream",
          "name": "stdout",
          "text": [
            "Logistic Regression Cross-Validation Classification Report:\n",
            "              precision    recall  f1-score   support\n",
            "\n",
            "           0       0.80      0.84      0.82      1196\n",
            "           1       0.74      0.69      0.72       804\n",
            "\n",
            "    accuracy                           0.78      2000\n",
            "   macro avg       0.77      0.76      0.77      2000\n",
            "weighted avg       0.78      0.78      0.78      2000\n",
            "\n"
          ]
        }
      ]
    },
    {
      "cell_type": "code",
      "source": [
        "from sklearn.metrics import accuracy_score\n"
      ],
      "metadata": {
        "id": "JZ0ovHhby8Xe"
      },
      "execution_count": null,
      "outputs": []
    },
    {
      "cell_type": "code",
      "source": [
        "val_accuracy_log_reg = accuracy_score(y_val, y_val_pred_log_reg)\n",
        "print(\"Logistic Regression Cross-Validation Accuracy:\", val_accuracy_log_reg)\n"
      ],
      "metadata": {
        "colab": {
          "base_uri": "https://localhost:8080/"
        },
        "id": "nZw67aUizBfv",
        "outputId": "27935575-8413-475a-fe71-bf12f24a4d30"
      },
      "execution_count": null,
      "outputs": [
        {
          "output_type": "stream",
          "name": "stdout",
          "text": [
            "Logistic Regression Cross-Validation Accuracy: 0.7785\n"
          ]
        }
      ]
    },
    {
      "cell_type": "code",
      "source": [
        "y_test_pred_log_reg = log_reg_model.predict(x_test)"
      ],
      "metadata": {
        "id": "Lu8lxHtR0lle"
      },
      "execution_count": null,
      "outputs": []
    },
    {
      "cell_type": "code",
      "source": [
        "print(\"Logistic Regression Test Set Classification Report:\")\n",
        "print(classification_report(y_test, y_test_pred_log_reg))"
      ],
      "metadata": {
        "colab": {
          "base_uri": "https://localhost:8080/"
        },
        "id": "o_SX-BYr0tYR",
        "outputId": "661c6bf8-87b3-4ab6-d678-95d00491ce30"
      },
      "execution_count": null,
      "outputs": [
        {
          "output_type": "stream",
          "name": "stdout",
          "text": [
            "Logistic Regression Test Set Classification Report:\n",
            "              precision    recall  f1-score   support\n",
            "\n",
            "           0       0.81      0.84      0.82      1141\n",
            "           1       0.77      0.73      0.75       859\n",
            "\n",
            "    accuracy                           0.79      2000\n",
            "   macro avg       0.79      0.78      0.79      2000\n",
            "weighted avg       0.79      0.79      0.79      2000\n",
            "\n"
          ]
        }
      ]
    },
    {
      "cell_type": "code",
      "source": [
        "test_accuracy_log_reg = accuracy_score(y_test, y_test_pred_log_reg)\n",
        "print(\"Logistic Regression Test Set Accuracy:\", test_accuracy_log_reg)"
      ],
      "metadata": {
        "colab": {
          "base_uri": "https://localhost:8080/"
        },
        "id": "0kuj8zeN0vJn",
        "outputId": "182c9abf-9c77-4509-8119-bdad675093fc"
      },
      "execution_count": null,
      "outputs": [
        {
          "output_type": "stream",
          "name": "stdout",
          "text": [
            "Logistic Regression Test Set Accuracy: 0.7915\n"
          ]
        }
      ]
    },
    {
      "cell_type": "code",
      "source": [
        "from sklearn.ensemble import RandomForestClassifier\n"
      ],
      "metadata": {
        "id": "x-_Pmrbb3Vha"
      },
      "execution_count": null,
      "outputs": []
    },
    {
      "cell_type": "code",
      "source": [
        "rf_model = RandomForestClassifier(random_state=42)\n",
        "rf_model.fit(x_train, y_train)"
      ],
      "metadata": {
        "colab": {
          "base_uri": "https://localhost:8080/",
          "height": 74
        },
        "id": "8MqnYcmx2_sY",
        "outputId": "afe8a199-6f7c-4aa1-ae9c-da8ea8cc790d"
      },
      "execution_count": null,
      "outputs": [
        {
          "output_type": "execute_result",
          "data": {
            "text/plain": [
              "RandomForestClassifier(random_state=42)"
            ],
            "text/html": [
              "<style>#sk-container-id-2 {color: black;background-color: white;}#sk-container-id-2 pre{padding: 0;}#sk-container-id-2 div.sk-toggleable {background-color: white;}#sk-container-id-2 label.sk-toggleable__label {cursor: pointer;display: block;width: 100%;margin-bottom: 0;padding: 0.3em;box-sizing: border-box;text-align: center;}#sk-container-id-2 label.sk-toggleable__label-arrow:before {content: \"▸\";float: left;margin-right: 0.25em;color: #696969;}#sk-container-id-2 label.sk-toggleable__label-arrow:hover:before {color: black;}#sk-container-id-2 div.sk-estimator:hover label.sk-toggleable__label-arrow:before {color: black;}#sk-container-id-2 div.sk-toggleable__content {max-height: 0;max-width: 0;overflow: hidden;text-align: left;background-color: #f0f8ff;}#sk-container-id-2 div.sk-toggleable__content pre {margin: 0.2em;color: black;border-radius: 0.25em;background-color: #f0f8ff;}#sk-container-id-2 input.sk-toggleable__control:checked~div.sk-toggleable__content {max-height: 200px;max-width: 100%;overflow: auto;}#sk-container-id-2 input.sk-toggleable__control:checked~label.sk-toggleable__label-arrow:before {content: \"▾\";}#sk-container-id-2 div.sk-estimator input.sk-toggleable__control:checked~label.sk-toggleable__label {background-color: #d4ebff;}#sk-container-id-2 div.sk-label input.sk-toggleable__control:checked~label.sk-toggleable__label {background-color: #d4ebff;}#sk-container-id-2 input.sk-hidden--visually {border: 0;clip: rect(1px 1px 1px 1px);clip: rect(1px, 1px, 1px, 1px);height: 1px;margin: -1px;overflow: hidden;padding: 0;position: absolute;width: 1px;}#sk-container-id-2 div.sk-estimator {font-family: monospace;background-color: #f0f8ff;border: 1px dotted black;border-radius: 0.25em;box-sizing: border-box;margin-bottom: 0.5em;}#sk-container-id-2 div.sk-estimator:hover {background-color: #d4ebff;}#sk-container-id-2 div.sk-parallel-item::after {content: \"\";width: 100%;border-bottom: 1px solid gray;flex-grow: 1;}#sk-container-id-2 div.sk-label:hover label.sk-toggleable__label {background-color: #d4ebff;}#sk-container-id-2 div.sk-serial::before {content: \"\";position: absolute;border-left: 1px solid gray;box-sizing: border-box;top: 0;bottom: 0;left: 50%;z-index: 0;}#sk-container-id-2 div.sk-serial {display: flex;flex-direction: column;align-items: center;background-color: white;padding-right: 0.2em;padding-left: 0.2em;position: relative;}#sk-container-id-2 div.sk-item {position: relative;z-index: 1;}#sk-container-id-2 div.sk-parallel {display: flex;align-items: stretch;justify-content: center;background-color: white;position: relative;}#sk-container-id-2 div.sk-item::before, #sk-container-id-2 div.sk-parallel-item::before {content: \"\";position: absolute;border-left: 1px solid gray;box-sizing: border-box;top: 0;bottom: 0;left: 50%;z-index: -1;}#sk-container-id-2 div.sk-parallel-item {display: flex;flex-direction: column;z-index: 1;position: relative;background-color: white;}#sk-container-id-2 div.sk-parallel-item:first-child::after {align-self: flex-end;width: 50%;}#sk-container-id-2 div.sk-parallel-item:last-child::after {align-self: flex-start;width: 50%;}#sk-container-id-2 div.sk-parallel-item:only-child::after {width: 0;}#sk-container-id-2 div.sk-dashed-wrapped {border: 1px dashed gray;margin: 0 0.4em 0.5em 0.4em;box-sizing: border-box;padding-bottom: 0.4em;background-color: white;}#sk-container-id-2 div.sk-label label {font-family: monospace;font-weight: bold;display: inline-block;line-height: 1.2em;}#sk-container-id-2 div.sk-label-container {text-align: center;}#sk-container-id-2 div.sk-container {/* jupyter's `normalize.less` sets `[hidden] { display: none; }` but bootstrap.min.css set `[hidden] { display: none !important; }` so we also need the `!important` here to be able to override the default hidden behavior on the sphinx rendered scikit-learn.org. See: https://github.com/scikit-learn/scikit-learn/issues/21755 */display: inline-block !important;position: relative;}#sk-container-id-2 div.sk-text-repr-fallback {display: none;}</style><div id=\"sk-container-id-2\" class=\"sk-top-container\"><div class=\"sk-text-repr-fallback\"><pre>RandomForestClassifier(random_state=42)</pre><b>In a Jupyter environment, please rerun this cell to show the HTML representation or trust the notebook. <br />On GitHub, the HTML representation is unable to render, please try loading this page with nbviewer.org.</b></div><div class=\"sk-container\" hidden><div class=\"sk-item\"><div class=\"sk-estimator sk-toggleable\"><input class=\"sk-toggleable__control sk-hidden--visually\" id=\"sk-estimator-id-2\" type=\"checkbox\" checked><label for=\"sk-estimator-id-2\" class=\"sk-toggleable__label sk-toggleable__label-arrow\">RandomForestClassifier</label><div class=\"sk-toggleable__content\"><pre>RandomForestClassifier(random_state=42)</pre></div></div></div></div></div>"
            ]
          },
          "metadata": {},
          "execution_count": 52
        }
      ]
    },
    {
      "cell_type": "code",
      "source": [
        "y_val_pred_rf = rf_model.predict(x_val)\n"
      ],
      "metadata": {
        "id": "dXay0msU3X-r"
      },
      "execution_count": null,
      "outputs": []
    },
    {
      "cell_type": "code",
      "source": [
        "print(\"Random Forest Cross-Validation Classification Report:\")\n",
        "print(classification_report(y_val, y_val_pred_rf))\n",
        "\n"
      ],
      "metadata": {
        "colab": {
          "base_uri": "https://localhost:8080/"
        },
        "id": "_4pR6jtY3cV5",
        "outputId": "e8427893-9d73-4e59-87a5-df0dc52c8ecc"
      },
      "execution_count": null,
      "outputs": [
        {
          "output_type": "stream",
          "name": "stdout",
          "text": [
            "Random Forest Cross-Validation Classification Report:\n",
            "              precision    recall  f1-score   support\n",
            "\n",
            "           0       1.00      0.99      1.00      1196\n",
            "           1       0.99      1.00      0.99       804\n",
            "\n",
            "    accuracy                           0.99      2000\n",
            "   macro avg       0.99      1.00      0.99      2000\n",
            "weighted avg       0.99      0.99      0.99      2000\n",
            "\n"
          ]
        }
      ]
    },
    {
      "cell_type": "code",
      "source": [
        "val_accuracy_rf = accuracy_score(y_val, y_val_pred_rf)\n",
        "print(\"Random Forest Cross-Validation Accuracy:\", val_accuracy_rf)"
      ],
      "metadata": {
        "colab": {
          "base_uri": "https://localhost:8080/"
        },
        "id": "6GXP0Voi3hrD",
        "outputId": "3091996f-b0a4-426c-89f5-9d34f377ee56"
      },
      "execution_count": null,
      "outputs": [
        {
          "output_type": "stream",
          "name": "stdout",
          "text": [
            "Random Forest Cross-Validation Accuracy: 0.9945\n"
          ]
        }
      ]
    },
    {
      "cell_type": "code",
      "source": [
        "y_test_pred_rf = rf_model.predict(x_test)"
      ],
      "metadata": {
        "id": "4G_HeMzM3m1p"
      },
      "execution_count": null,
      "outputs": []
    },
    {
      "cell_type": "code",
      "source": [
        "print(\"Random Forest Test Set Classification Report:\")\n",
        "print(classification_report(y_test, y_test_pred_rf))"
      ],
      "metadata": {
        "colab": {
          "base_uri": "https://localhost:8080/"
        },
        "id": "e21gSihW3rao",
        "outputId": "f298afa0-8e4b-4726-a86c-d73cc6c7c248"
      },
      "execution_count": null,
      "outputs": [
        {
          "output_type": "stream",
          "name": "stdout",
          "text": [
            "Random Forest Test Set Classification Report:\n",
            "              precision    recall  f1-score   support\n",
            "\n",
            "           0       0.98      0.99      0.99      1141\n",
            "           1       0.99      0.98      0.98       859\n",
            "\n",
            "    accuracy                           0.99      2000\n",
            "   macro avg       0.99      0.99      0.99      2000\n",
            "weighted avg       0.99      0.99      0.99      2000\n",
            "\n"
          ]
        }
      ]
    },
    {
      "cell_type": "code",
      "source": [
        "test_accuracy_rf = accuracy_score(y_test, y_test_pred_rf)\n",
        "print(\"Random Forest Test Set Accuracy:\", test_accuracy_rf)"
      ],
      "metadata": {
        "colab": {
          "base_uri": "https://localhost:8080/"
        },
        "id": "h51Ao8PW3t3s",
        "outputId": "0d07f30b-fbd0-4fce-a1e9-85bd98573ebc"
      },
      "execution_count": null,
      "outputs": [
        {
          "output_type": "stream",
          "name": "stdout",
          "text": [
            "Random Forest Test Set Accuracy: 0.987\n"
          ]
        }
      ]
    },
    {
      "cell_type": "code",
      "source": [
        "from sklearn.svm import SVC\n",
        "from tensorflow.keras.models import Sequential\n",
        "from tensorflow.keras.layers import Dense"
      ],
      "metadata": {
        "id": "XHVr6yQW5m0b"
      },
      "execution_count": null,
      "outputs": []
    },
    {
      "cell_type": "code",
      "source": [
        "svm_model = SVC(random_state=42)\n",
        "svm_model.fit(x_train, y_train)\n"
      ],
      "metadata": {
        "colab": {
          "base_uri": "https://localhost:8080/",
          "height": 74
        },
        "id": "6VlPosB45gz5",
        "outputId": "0c3b4c3b-4a69-48d1-8efa-d4ad4b9bf70b"
      },
      "execution_count": null,
      "outputs": [
        {
          "output_type": "execute_result",
          "data": {
            "text/plain": [
              "SVC(random_state=42)"
            ],
            "text/html": [
              "<style>#sk-container-id-3 {color: black;background-color: white;}#sk-container-id-3 pre{padding: 0;}#sk-container-id-3 div.sk-toggleable {background-color: white;}#sk-container-id-3 label.sk-toggleable__label {cursor: pointer;display: block;width: 100%;margin-bottom: 0;padding: 0.3em;box-sizing: border-box;text-align: center;}#sk-container-id-3 label.sk-toggleable__label-arrow:before {content: \"▸\";float: left;margin-right: 0.25em;color: #696969;}#sk-container-id-3 label.sk-toggleable__label-arrow:hover:before {color: black;}#sk-container-id-3 div.sk-estimator:hover label.sk-toggleable__label-arrow:before {color: black;}#sk-container-id-3 div.sk-toggleable__content {max-height: 0;max-width: 0;overflow: hidden;text-align: left;background-color: #f0f8ff;}#sk-container-id-3 div.sk-toggleable__content pre {margin: 0.2em;color: black;border-radius: 0.25em;background-color: #f0f8ff;}#sk-container-id-3 input.sk-toggleable__control:checked~div.sk-toggleable__content {max-height: 200px;max-width: 100%;overflow: auto;}#sk-container-id-3 input.sk-toggleable__control:checked~label.sk-toggleable__label-arrow:before {content: \"▾\";}#sk-container-id-3 div.sk-estimator input.sk-toggleable__control:checked~label.sk-toggleable__label {background-color: #d4ebff;}#sk-container-id-3 div.sk-label input.sk-toggleable__control:checked~label.sk-toggleable__label {background-color: #d4ebff;}#sk-container-id-3 input.sk-hidden--visually {border: 0;clip: rect(1px 1px 1px 1px);clip: rect(1px, 1px, 1px, 1px);height: 1px;margin: -1px;overflow: hidden;padding: 0;position: absolute;width: 1px;}#sk-container-id-3 div.sk-estimator {font-family: monospace;background-color: #f0f8ff;border: 1px dotted black;border-radius: 0.25em;box-sizing: border-box;margin-bottom: 0.5em;}#sk-container-id-3 div.sk-estimator:hover {background-color: #d4ebff;}#sk-container-id-3 div.sk-parallel-item::after {content: \"\";width: 100%;border-bottom: 1px solid gray;flex-grow: 1;}#sk-container-id-3 div.sk-label:hover label.sk-toggleable__label {background-color: #d4ebff;}#sk-container-id-3 div.sk-serial::before {content: \"\";position: absolute;border-left: 1px solid gray;box-sizing: border-box;top: 0;bottom: 0;left: 50%;z-index: 0;}#sk-container-id-3 div.sk-serial {display: flex;flex-direction: column;align-items: center;background-color: white;padding-right: 0.2em;padding-left: 0.2em;position: relative;}#sk-container-id-3 div.sk-item {position: relative;z-index: 1;}#sk-container-id-3 div.sk-parallel {display: flex;align-items: stretch;justify-content: center;background-color: white;position: relative;}#sk-container-id-3 div.sk-item::before, #sk-container-id-3 div.sk-parallel-item::before {content: \"\";position: absolute;border-left: 1px solid gray;box-sizing: border-box;top: 0;bottom: 0;left: 50%;z-index: -1;}#sk-container-id-3 div.sk-parallel-item {display: flex;flex-direction: column;z-index: 1;position: relative;background-color: white;}#sk-container-id-3 div.sk-parallel-item:first-child::after {align-self: flex-end;width: 50%;}#sk-container-id-3 div.sk-parallel-item:last-child::after {align-self: flex-start;width: 50%;}#sk-container-id-3 div.sk-parallel-item:only-child::after {width: 0;}#sk-container-id-3 div.sk-dashed-wrapped {border: 1px dashed gray;margin: 0 0.4em 0.5em 0.4em;box-sizing: border-box;padding-bottom: 0.4em;background-color: white;}#sk-container-id-3 div.sk-label label {font-family: monospace;font-weight: bold;display: inline-block;line-height: 1.2em;}#sk-container-id-3 div.sk-label-container {text-align: center;}#sk-container-id-3 div.sk-container {/* jupyter's `normalize.less` sets `[hidden] { display: none; }` but bootstrap.min.css set `[hidden] { display: none !important; }` so we also need the `!important` here to be able to override the default hidden behavior on the sphinx rendered scikit-learn.org. See: https://github.com/scikit-learn/scikit-learn/issues/21755 */display: inline-block !important;position: relative;}#sk-container-id-3 div.sk-text-repr-fallback {display: none;}</style><div id=\"sk-container-id-3\" class=\"sk-top-container\"><div class=\"sk-text-repr-fallback\"><pre>SVC(random_state=42)</pre><b>In a Jupyter environment, please rerun this cell to show the HTML representation or trust the notebook. <br />On GitHub, the HTML representation is unable to render, please try loading this page with nbviewer.org.</b></div><div class=\"sk-container\" hidden><div class=\"sk-item\"><div class=\"sk-estimator sk-toggleable\"><input class=\"sk-toggleable__control sk-hidden--visually\" id=\"sk-estimator-id-3\" type=\"checkbox\" checked><label for=\"sk-estimator-id-3\" class=\"sk-toggleable__label sk-toggleable__label-arrow\">SVC</label><div class=\"sk-toggleable__content\"><pre>SVC(random_state=42)</pre></div></div></div></div></div>"
            ]
          },
          "metadata": {},
          "execution_count": 60
        }
      ]
    },
    {
      "cell_type": "code",
      "source": [
        "y_val_pred_svm = svm_model.predict(x_val)"
      ],
      "metadata": {
        "id": "GaNQ7qUn5vyr"
      },
      "execution_count": null,
      "outputs": []
    },
    {
      "cell_type": "code",
      "source": [
        "print(\"SVM Cross-Validation Classification Report:\")\n",
        "print(classification_report(y_val, y_val_pred_svm))"
      ],
      "metadata": {
        "colab": {
          "base_uri": "https://localhost:8080/"
        },
        "id": "v3-MG2mB5x5X",
        "outputId": "f5ebfd20-18f3-4bf3-a33c-97cf31f26ff1"
      },
      "execution_count": null,
      "outputs": [
        {
          "output_type": "stream",
          "name": "stdout",
          "text": [
            "SVM Cross-Validation Classification Report:\n",
            "              precision    recall  f1-score   support\n",
            "\n",
            "           0       0.83      0.84      0.83      1196\n",
            "           1       0.75      0.74      0.75       804\n",
            "\n",
            "    accuracy                           0.80      2000\n",
            "   macro avg       0.79      0.79      0.79      2000\n",
            "weighted avg       0.80      0.80      0.80      2000\n",
            "\n"
          ]
        }
      ]
    },
    {
      "cell_type": "code",
      "source": [
        "val_accuracy_svm = accuracy_score(y_val, y_val_pred_svm)\n",
        "print(\"SVM Cross-Validation Accuracy:\", val_accuracy_svm)"
      ],
      "metadata": {
        "colab": {
          "base_uri": "https://localhost:8080/"
        },
        "id": "iQgUuyf050t6",
        "outputId": "604f0e53-18c4-47f7-81b5-deaa76e802bb"
      },
      "execution_count": null,
      "outputs": [
        {
          "output_type": "stream",
          "name": "stdout",
          "text": [
            "SVM Cross-Validation Accuracy: 0.7995\n"
          ]
        }
      ]
    },
    {
      "cell_type": "code",
      "source": [
        "y_test_pred_svm = svm_model.predict(x_test)"
      ],
      "metadata": {
        "id": "TpbSGiyz54DF"
      },
      "execution_count": null,
      "outputs": []
    },
    {
      "cell_type": "code",
      "source": [
        "print(\"SVM Test Set Classification Report:\")\n",
        "print(classification_report(y_test, y_test_pred_svm))"
      ],
      "metadata": {
        "colab": {
          "base_uri": "https://localhost:8080/"
        },
        "id": "EpMEhNC356V7",
        "outputId": "b0fadf1a-cfe9-4759-fb4f-e78dae9fade9"
      },
      "execution_count": null,
      "outputs": [
        {
          "output_type": "stream",
          "name": "stdout",
          "text": [
            "SVM Test Set Classification Report:\n",
            "              precision    recall  f1-score   support\n",
            "\n",
            "           0       0.81      0.86      0.84      1141\n",
            "           1       0.80      0.73      0.77       859\n",
            "\n",
            "    accuracy                           0.81      2000\n",
            "   macro avg       0.81      0.80      0.80      2000\n",
            "weighted avg       0.81      0.81      0.81      2000\n",
            "\n"
          ]
        }
      ]
    },
    {
      "cell_type": "code",
      "source": [
        "test_accuracy_svm = accuracy_score(y_test, y_test_pred_svm)\n",
        "print(\"SVM Test Set Accuracy:\", test_accuracy_svm)"
      ],
      "metadata": {
        "colab": {
          "base_uri": "https://localhost:8080/"
        },
        "id": "-aWZgebo58p7",
        "outputId": "b05bd6f5-0f28-43f0-e70b-053adb4aeb29"
      },
      "execution_count": null,
      "outputs": [
        {
          "output_type": "stream",
          "name": "stdout",
          "text": [
            "SVM Test Set Accuracy: 0.8085\n"
          ]
        }
      ]
    },
    {
      "cell_type": "code",
      "source": [
        "ann_model = Sequential()\n",
        "ann_model.add(Dense(16, input_dim=x_train.shape[1], activation='relu'))\n",
        "ann_model.add(Dense(8, activation='relu'))\n",
        "ann_model.add(Dense(1, activation='sigmoid'))"
      ],
      "metadata": {
        "id": "M4y3aSC15_nL"
      },
      "execution_count": null,
      "outputs": []
    },
    {
      "cell_type": "code",
      "source": [
        "ann_model.compile(loss='binary_crossentropy', optimizer='adam', metrics=['accuracy'])\n"
      ],
      "metadata": {
        "id": "88q3ZihE6CBu"
      },
      "execution_count": null,
      "outputs": []
    },
    {
      "cell_type": "code",
      "source": [
        "ann_model.fit(x_train, y_train, epochs=50, batch_size=10, validation_data=(x_val, y_val), verbose=1)\n"
      ],
      "metadata": {
        "colab": {
          "base_uri": "https://localhost:8080/"
        },
        "id": "g7YHc4pL6Ef0",
        "outputId": "2e34cf70-a174-4881-c543-b6b5365ff4bf"
      },
      "execution_count": null,
      "outputs": [
        {
          "output_type": "stream",
          "name": "stdout",
          "text": [
            "Epoch 1/50\n",
            "600/600 [==============================] - 3s 2ms/step - loss: 0.5545 - accuracy: 0.7267 - val_loss: 0.4625 - val_accuracy: 0.7740\n",
            "Epoch 2/50\n",
            "600/600 [==============================] - 1s 2ms/step - loss: 0.4280 - accuracy: 0.7872 - val_loss: 0.4215 - val_accuracy: 0.7785\n",
            "Epoch 3/50\n",
            "600/600 [==============================] - 1s 2ms/step - loss: 0.4010 - accuracy: 0.7845 - val_loss: 0.3996 - val_accuracy: 0.7810\n",
            "Epoch 4/50\n",
            "600/600 [==============================] - 1s 2ms/step - loss: 0.3863 - accuracy: 0.7825 - val_loss: 0.3889 - val_accuracy: 0.7780\n",
            "Epoch 5/50\n",
            "600/600 [==============================] - 1s 2ms/step - loss: 0.3790 - accuracy: 0.7837 - val_loss: 0.3835 - val_accuracy: 0.7750\n",
            "Epoch 6/50\n",
            "600/600 [==============================] - 1s 2ms/step - loss: 0.3737 - accuracy: 0.7830 - val_loss: 0.3796 - val_accuracy: 0.7800\n",
            "Epoch 7/50\n",
            "600/600 [==============================] - 1s 2ms/step - loss: 0.3695 - accuracy: 0.7857 - val_loss: 0.3732 - val_accuracy: 0.7800\n",
            "Epoch 8/50\n",
            "600/600 [==============================] - 1s 2ms/step - loss: 0.3648 - accuracy: 0.7873 - val_loss: 0.3701 - val_accuracy: 0.7800\n",
            "Epoch 9/50\n",
            "600/600 [==============================] - 2s 3ms/step - loss: 0.3602 - accuracy: 0.7913 - val_loss: 0.3650 - val_accuracy: 0.7915\n",
            "Epoch 10/50\n",
            "600/600 [==============================] - 1s 2ms/step - loss: 0.3554 - accuracy: 0.7930 - val_loss: 0.3617 - val_accuracy: 0.7915\n",
            "Epoch 11/50\n",
            "600/600 [==============================] - 1s 2ms/step - loss: 0.3519 - accuracy: 0.7957 - val_loss: 0.3601 - val_accuracy: 0.7830\n",
            "Epoch 12/50\n",
            "600/600 [==============================] - 1s 2ms/step - loss: 0.3479 - accuracy: 0.7927 - val_loss: 0.3545 - val_accuracy: 0.7910\n",
            "Epoch 13/50\n",
            "600/600 [==============================] - 1s 2ms/step - loss: 0.3432 - accuracy: 0.7973 - val_loss: 0.3550 - val_accuracy: 0.7855\n",
            "Epoch 14/50\n",
            "600/600 [==============================] - 1s 2ms/step - loss: 0.3391 - accuracy: 0.7948 - val_loss: 0.3476 - val_accuracy: 0.7945\n",
            "Epoch 15/50\n",
            "600/600 [==============================] - 1s 2ms/step - loss: 0.3351 - accuracy: 0.7990 - val_loss: 0.3424 - val_accuracy: 0.7920\n",
            "Epoch 16/50\n",
            "600/600 [==============================] - 1s 2ms/step - loss: 0.3313 - accuracy: 0.8022 - val_loss: 0.3432 - val_accuracy: 0.7930\n",
            "Epoch 17/50\n",
            "600/600 [==============================] - 1s 2ms/step - loss: 0.3297 - accuracy: 0.8058 - val_loss: 0.3402 - val_accuracy: 0.7970\n",
            "Epoch 18/50\n",
            "600/600 [==============================] - 2s 3ms/step - loss: 0.3272 - accuracy: 0.8058 - val_loss: 0.3354 - val_accuracy: 0.7875\n",
            "Epoch 19/50\n",
            "600/600 [==============================] - 2s 4ms/step - loss: 0.3245 - accuracy: 0.8095 - val_loss: 0.3342 - val_accuracy: 0.8010\n",
            "Epoch 20/50\n",
            "600/600 [==============================] - 1s 2ms/step - loss: 0.3230 - accuracy: 0.8095 - val_loss: 0.3305 - val_accuracy: 0.7970\n",
            "Epoch 21/50\n",
            "600/600 [==============================] - 1s 2ms/step - loss: 0.3208 - accuracy: 0.8098 - val_loss: 0.3289 - val_accuracy: 0.8060\n",
            "Epoch 22/50\n",
            "600/600 [==============================] - 1s 2ms/step - loss: 0.3188 - accuracy: 0.8127 - val_loss: 0.3282 - val_accuracy: 0.8060\n",
            "Epoch 23/50\n",
            "600/600 [==============================] - 1s 2ms/step - loss: 0.3164 - accuracy: 0.8195 - val_loss: 0.3307 - val_accuracy: 0.7985\n",
            "Epoch 24/50\n",
            "600/600 [==============================] - 1s 2ms/step - loss: 0.3160 - accuracy: 0.8133 - val_loss: 0.3266 - val_accuracy: 0.8030\n",
            "Epoch 25/50\n",
            "600/600 [==============================] - 1s 2ms/step - loss: 0.3143 - accuracy: 0.8185 - val_loss: 0.3259 - val_accuracy: 0.7985\n",
            "Epoch 26/50\n",
            "600/600 [==============================] - 1s 2ms/step - loss: 0.3129 - accuracy: 0.8182 - val_loss: 0.3252 - val_accuracy: 0.7950\n",
            "Epoch 27/50\n",
            "600/600 [==============================] - 2s 3ms/step - loss: 0.3121 - accuracy: 0.8197 - val_loss: 0.3234 - val_accuracy: 0.8010\n",
            "Epoch 28/50\n",
            "600/600 [==============================] - 2s 4ms/step - loss: 0.3116 - accuracy: 0.8193 - val_loss: 0.3217 - val_accuracy: 0.8085\n",
            "Epoch 29/50\n",
            "600/600 [==============================] - 1s 2ms/step - loss: 0.3108 - accuracy: 0.8205 - val_loss: 0.3225 - val_accuracy: 0.8080\n",
            "Epoch 30/50\n",
            "600/600 [==============================] - 2s 3ms/step - loss: 0.3095 - accuracy: 0.8228 - val_loss: 0.3241 - val_accuracy: 0.8000\n",
            "Epoch 31/50\n",
            "600/600 [==============================] - 1s 2ms/step - loss: 0.3074 - accuracy: 0.8228 - val_loss: 0.3249 - val_accuracy: 0.8055\n",
            "Epoch 32/50\n",
            "600/600 [==============================] - 1s 2ms/step - loss: 0.3071 - accuracy: 0.8257 - val_loss: 0.3230 - val_accuracy: 0.8030\n",
            "Epoch 33/50\n",
            "600/600 [==============================] - 1s 2ms/step - loss: 0.3060 - accuracy: 0.8252 - val_loss: 0.3208 - val_accuracy: 0.8125\n",
            "Epoch 34/50\n",
            "600/600 [==============================] - 1s 2ms/step - loss: 0.3058 - accuracy: 0.8243 - val_loss: 0.3231 - val_accuracy: 0.8065\n",
            "Epoch 35/50\n",
            "600/600 [==============================] - 1s 2ms/step - loss: 0.3046 - accuracy: 0.8288 - val_loss: 0.3194 - val_accuracy: 0.8055\n",
            "Epoch 36/50\n",
            "600/600 [==============================] - 2s 3ms/step - loss: 0.3038 - accuracy: 0.8297 - val_loss: 0.3182 - val_accuracy: 0.8050\n",
            "Epoch 37/50\n",
            "600/600 [==============================] - 2s 3ms/step - loss: 0.3035 - accuracy: 0.8285 - val_loss: 0.3173 - val_accuracy: 0.8135\n",
            "Epoch 38/50\n",
            "600/600 [==============================] - 1s 2ms/step - loss: 0.3031 - accuracy: 0.8303 - val_loss: 0.3178 - val_accuracy: 0.8135\n",
            "Epoch 39/50\n",
            "600/600 [==============================] - 1s 2ms/step - loss: 0.3017 - accuracy: 0.8342 - val_loss: 0.3196 - val_accuracy: 0.8230\n",
            "Epoch 40/50\n",
            "600/600 [==============================] - 1s 2ms/step - loss: 0.3012 - accuracy: 0.8347 - val_loss: 0.3160 - val_accuracy: 0.8095\n",
            "Epoch 41/50\n",
            "600/600 [==============================] - 1s 2ms/step - loss: 0.3008 - accuracy: 0.8330 - val_loss: 0.3181 - val_accuracy: 0.8005\n",
            "Epoch 42/50\n",
            "600/600 [==============================] - 1s 2ms/step - loss: 0.2999 - accuracy: 0.8355 - val_loss: 0.3202 - val_accuracy: 0.8150\n",
            "Epoch 43/50\n",
            "600/600 [==============================] - 1s 2ms/step - loss: 0.2989 - accuracy: 0.8328 - val_loss: 0.3155 - val_accuracy: 0.8105\n",
            "Epoch 44/50\n",
            "600/600 [==============================] - 1s 2ms/step - loss: 0.2991 - accuracy: 0.8355 - val_loss: 0.3157 - val_accuracy: 0.8135\n",
            "Epoch 45/50\n",
            "600/600 [==============================] - 1s 2ms/step - loss: 0.2987 - accuracy: 0.8332 - val_loss: 0.3155 - val_accuracy: 0.8115\n",
            "Epoch 46/50\n",
            "600/600 [==============================] - 2s 3ms/step - loss: 0.2985 - accuracy: 0.8317 - val_loss: 0.3158 - val_accuracy: 0.8185\n",
            "Epoch 47/50\n",
            "600/600 [==============================] - 2s 3ms/step - loss: 0.2977 - accuracy: 0.8327 - val_loss: 0.3128 - val_accuracy: 0.8125\n",
            "Epoch 48/50\n",
            "600/600 [==============================] - 1s 2ms/step - loss: 0.2978 - accuracy: 0.8335 - val_loss: 0.3124 - val_accuracy: 0.8110\n",
            "Epoch 49/50\n",
            "600/600 [==============================] - 1s 2ms/step - loss: 0.2966 - accuracy: 0.8340 - val_loss: 0.3134 - val_accuracy: 0.8145\n",
            "Epoch 50/50\n",
            "600/600 [==============================] - 1s 2ms/step - loss: 0.2961 - accuracy: 0.8352 - val_loss: 0.3156 - val_accuracy: 0.8070\n"
          ]
        },
        {
          "output_type": "execute_result",
          "data": {
            "text/plain": [
              "<keras.src.callbacks.History at 0x7c408d55fe50>"
            ]
          },
          "metadata": {},
          "execution_count": 69
        }
      ]
    },
    {
      "cell_type": "code",
      "source": [
        "val_loss, val_accuracy_ann = ann_model.evaluate(x_val, y_val, verbose=0)\n",
        "print(\"ANN Cross-Validation Accuracy:\", val_accuracy_ann)"
      ],
      "metadata": {
        "colab": {
          "base_uri": "https://localhost:8080/"
        },
        "id": "sduBSRo86fbp",
        "outputId": "327f6608-cd8e-4e57-a191-1be6c5c09a49"
      },
      "execution_count": null,
      "outputs": [
        {
          "output_type": "stream",
          "name": "stdout",
          "text": [
            "ANN Cross-Validation Accuracy: 0.8069999814033508\n"
          ]
        }
      ]
    },
    {
      "cell_type": "code",
      "source": [
        "y_test_pred_ann = (ann_model.predict(x_test) > 0.5).astype(\"int32\")\n"
      ],
      "metadata": {
        "colab": {
          "base_uri": "https://localhost:8080/"
        },
        "id": "Kto-sqKS6kg7",
        "outputId": "8a732031-8c36-428f-af65-d13ea2a313bd"
      },
      "execution_count": null,
      "outputs": [
        {
          "output_type": "stream",
          "name": "stdout",
          "text": [
            "63/63 [==============================] - 0s 1ms/step\n"
          ]
        }
      ]
    },
    {
      "cell_type": "code",
      "source": [
        "print(\"ANN Test Set Classification Report:\")\n",
        "print(classification_report(y_test, y_test_pred_ann))"
      ],
      "metadata": {
        "colab": {
          "base_uri": "https://localhost:8080/"
        },
        "id": "h0zwDUZO6ufR",
        "outputId": "b726fb15-5d91-40b6-a668-e48bb1966075"
      },
      "execution_count": null,
      "outputs": [
        {
          "output_type": "stream",
          "name": "stdout",
          "text": [
            "ANN Test Set Classification Report:\n",
            "              precision    recall  f1-score   support\n",
            "\n",
            "           0       0.83      0.84      0.84      1141\n",
            "           1       0.79      0.77      0.78       859\n",
            "\n",
            "    accuracy                           0.81      2000\n",
            "   macro avg       0.81      0.81      0.81      2000\n",
            "weighted avg       0.81      0.81      0.81      2000\n",
            "\n"
          ]
        }
      ]
    },
    {
      "cell_type": "code",
      "source": [
        "test_accuracy_ann = accuracy_score(y_test, y_test_pred_ann)\n",
        "print(\"ANN Test Set Accuracy:\", test_accuracy_ann)"
      ],
      "metadata": {
        "colab": {
          "base_uri": "https://localhost:8080/"
        },
        "id": "QTIuQpu16z7X",
        "outputId": "568c4050-ce38-496e-ae30-fe27418209f6"
      },
      "execution_count": null,
      "outputs": [
        {
          "output_type": "stream",
          "name": "stdout",
          "text": [
            "ANN Test Set Accuracy: 0.812\n"
          ]
        }
      ]
    },
    {
      "cell_type": "code",
      "source": [
        "import pickle"
      ],
      "metadata": {
        "id": "RjVut_nX7caq"
      },
      "execution_count": null,
      "outputs": []
    },
    {
      "cell_type": "code",
      "source": [
        "with open('log_reg_model.pkl','wb') as f:\n",
        "  pickle.dump(log_reg_model,f)"
      ],
      "metadata": {
        "id": "cyMGnzH47hXT"
      },
      "execution_count": null,
      "outputs": []
    },
    {
      "cell_type": "code",
      "source": [
        "with open('rf_model.pkl', 'wb') as f:\n",
        "    pickle.dump(rf_model, f)"
      ],
      "metadata": {
        "id": "YwVBjccA9HkG"
      },
      "execution_count": null,
      "outputs": []
    },
    {
      "cell_type": "code",
      "source": [
        "with open('svm_model.pkl', 'wb') as f:\n",
        "    pickle.dump(svm_model, f)"
      ],
      "metadata": {
        "id": "fjtv2JPF9K1_"
      },
      "execution_count": null,
      "outputs": []
    },
    {
      "cell_type": "code",
      "source": [
        "with open('ann_model.pkl', 'wb') as f:\n",
        "    pickle.dump(ann_model, f)"
      ],
      "metadata": {
        "id": "pwhPzZP9d2GS"
      },
      "execution_count": null,
      "outputs": []
    },
    {
      "cell_type": "code",
      "source": [
        "with open('scaler.pkl', 'wb') as f:\n",
        "    pickle.dump(scaler, f)"
      ],
      "metadata": {
        "id": "31DLyCRK9THE"
      },
      "execution_count": null,
      "outputs": []
    },
    {
      "cell_type": "code",
      "source": [
        "!ls"
      ],
      "metadata": {
        "colab": {
          "base_uri": "https://localhost:8080/"
        },
        "id": "XXHmA-oM90Ht",
        "outputId": "9651a3b7-9059-480f-a31c-87d0614cd222"
      },
      "execution_count": null,
      "outputs": [
        {
          "output_type": "stream",
          "name": "stdout",
          "text": [
            "ann_model.h5   log_reg_model.pkl  sample_data  svm_model.pkl\n",
            "ann_model.pkl  rf_model.pkl\t  scaler.pkl\n"
          ]
        }
      ]
    }
  ]
}